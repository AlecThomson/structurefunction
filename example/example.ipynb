{
 "cells": [
  {
   "cell_type": "code",
   "execution_count": 1,
   "metadata": {},
   "outputs": [],
   "source": [
    "jtplot.reset()\n",
    "%matplotlib inline\n",
    "from structurefunction import structure_function\n",
    "import numpy as np\n",
    "from astropy.table import Table\n",
    "from astropy.coordinates import SkyCoord\n",
    "from tqdm.auto import tqdm\n",
    "import matplotlib.pyplot as plt\n",
    "import astropy.units as u"
   ]
  },
  {
   "cell_type": "markdown",
   "metadata": {},
   "source": [
    "The second-order structure function of rotation measure (RM) is given by:\n",
    "\n",
    "$$ SF_{\\text{RM},\\text{obs}}(\\delta\\theta) = \\langle[\\text{RM}{\\theta} - \\text{RM}(\\theta+\\delta\\theta)]^2\\rangle$$\n",
    "\n",
    "That is, the ensemble average of the squared-difference in RM for sources with angular seperation $\\delta\\theta$. We also need to correct for the impact of errors by:\n",
    "\n",
    "$$ SF_{\\text{RM}}(\\delta\\theta) = SF_{\\text{RM},\\text{obs}}(\\delta\\theta) - SF_{\\sigma_\\text{RM}}(\\delta\\theta) $$\n",
    "\n",
    "See Haverkorn et al. 2004 (2004ApJ...609..776H) for details.\n",
    "\n",
    "Here we'll reproduce the results of Mao et al. 2010 (2010ApJ...714.1170M)."
   ]
  },
  {
   "cell_type": "markdown",
   "metadata": {},
   "source": [
    "First, we can look at the expected results. I've pulled these data from the paper's plots using a web plot digitiser."
   ]
  },
  {
   "cell_type": "code",
   "execution_count": 2,
   "metadata": {},
   "outputs": [],
   "source": [
    "mao_sf = 10**np.array([2.417894195735458,\n",
    "                    2.097768739428083,\n",
    "                    2.2926445508823967,\n",
    "                    2.164149088774578,\n",
    "                    2.1404402085381147,\n",
    "                    2.176621779798478,\n",
    "                    2.218782670913379,\n",
    "                    2.2444782900152482,\n",
    "                    2.2476963207124476,\n",
    "                    2.2837806390213578,]) * (u.rad / u.m**2)**2\n",
    "mao_sep = 10**np.array([-0.7729091483767441, \n",
    "                    -0.5386163683663935, \n",
    "                    -0.2730532911440767, \n",
    "                    -0.02550632317850443, \n",
    "                    0.21819567988496358, \n",
    "                    0.47213008276920787, \n",
    "                    0.7173429798998987, \n",
    "                    0.9643533199726302, \n",
    "                    1.18882007856649, \n",
    "                    1.3453070240944185,]) * u.deg"
   ]
  },
  {
   "cell_type": "code",
   "execution_count": 3,
   "metadata": {},
   "outputs": [
    {
     "data": {
      "text/plain": [
       "Text(0, 0.5, 'RM SF [$\\\\mathrm{rad^{2}\\\\,m^{-4}}$]')"
      ]
     },
     "execution_count": 3,
     "metadata": {},
     "output_type": "execute_result"
    },
    {
     "data": {
      "image/png": "[encoded data removed]",
      "text/plain": [
       "<Figure size 432x432 with 1 Axes>"
      ]
     },
     "metadata": {
      "needs_background": "light"
     },
     "output_type": "display_data"
    }
   ],
   "source": [
    "plt.figure(figsize=(6,6))\n",
    "plt.plot(mao_sep, mao_sf, 'X', label='Paper SF')\n",
    "plt.xscale('log')\n",
    "plt.yscale('log')\n",
    "plt.ylim(10**1.5, 10**3)\n",
    "plt.xlim(10**-1,10**1.5)\n",
    "plt.legend()\n",
    "plt.xlabel(rf\"$\\Delta\\theta$ [{mao_sep.unit:latex_inline}]\")\n",
    "plt.ylabel(rf\"RM SF [{mao_sf.unit:latex_inline}]\")"
   ]
  },
  {
   "cell_type": "markdown",
   "metadata": {},
   "source": [
    "Now we'll start with the original data. We'll convert the data to an astropy table for convenience"
   ]
  },
  {
   "cell_type": "code",
   "execution_count": 4,
   "metadata": {},
   "outputs": [
    {
     "name": "stderr",
     "output_type": "stream",
     "text": [
      "100%|██████████| 472/472 [00:00<00:00, 575664.87it/s]\n",
      "100%|██████████| 472/472 [00:00<00:00, 761.72it/s]\n"
     ]
    },
    {
     "data": {
      "text/html": [
       "<div><i>Table length=472</i>\n",
       "<table id=\"table140456445534704\" class=\"table-striped table-bordered table-condensed\">\n",
       "<thead><tr><th>coordinates</th><th>RM</th><th>e_RM</th><th>included</th><th>flag</th></tr></thead>\n",
       "<thead><tr><th>deg,deg</th><th>rad / m2</th><th>rad / m2</th><th></th><th></th></tr></thead>\n",
       "<thead><tr><th>object</th><th>float64</th><th>float64</th><th>bool</th><th>object</th></tr></thead>\n",
       "<tr><td>196.78470833333333,24.78352777777778</td><td>-3.0</td><td>4.0</td><td>True</td><td>None</td></tr>\n",
       "<tr><td>203.9505833333333,20.171111111111113</td><td>3.0</td><td>5.0</td><td>False</td><td>b</td></tr>\n",
       "<tr><td>201.06033333333332,22.220305555555555</td><td>-6.0</td><td>6.0</td><td>True</td><td>None</td></tr>\n",
       "<tr><td>201.07991666666663,22.233472222222222</td><td>0.0</td><td>6.0</td><td>True</td><td>None</td></tr>\n",
       "<tr><td>199.01816666666664,23.62713888888889</td><td>4.0</td><td>13.0</td><td>True</td><td>None</td></tr>\n",
       "<tr><td>200.20225,22.965194444444442</td><td>-6.0</td><td>8.0</td><td>True</td><td>None</td></tr>\n",
       "<tr><td>197.81804166666666,24.454333333333334</td><td>5.0</td><td>3.0</td><td>True</td><td>None</td></tr>\n",
       "<tr><td>203.60637499999996,21.167916666666667</td><td>-1.0</td><td>9.0</td><td>False</td><td>b</td></tr>\n",
       "<tr><td>196.91187499999998,25.055555555555557</td><td>-6.0</td><td>4.0</td><td>True</td><td>None</td></tr>\n",
       "<tr><td>...</td><td>...</td><td>...</td><td>...</td><td>...</td></tr>\n",
       "<tr><td>193.52904166666664,26.502466666666667</td><td>-5.0</td><td>2.0</td><td>False</td><td>a</td></tr>\n",
       "<tr><td>197.22479166666665,22.97161111111111</td><td>4.0</td><td>5.0</td><td>True</td><td>None</td></tr>\n",
       "<tr><td>196.72154166666664,23.542472222222223</td><td>-2.0</td><td>10.0</td><td>True</td><td>None</td></tr>\n",
       "<tr><td>199.7889583333333,20.89011111111111</td><td>1.0</td><td>6.0</td><td>True</td><td>None</td></tr>\n",
       "<tr><td>201.55124999999998,19.40825</td><td>2.0</td><td>11.0</td><td>False</td><td>b</td></tr>\n",
       "<tr><td>196.7925833333333,24.129166666666666</td><td>0.0</td><td>3.0</td><td>True</td><td>None</td></tr>\n",
       "<tr><td>199.27962499999998,22.589416666666665</td><td>-20.0</td><td>14.0</td><td>True</td><td>None</td></tr>\n",
       "<tr><td>200.54762499999998,21.80338888888889</td><td>12.0</td><td>6.0</td><td>True</td><td>None</td></tr>\n",
       "<tr><td>200.29674999999997,22.269972222222222</td><td>-1.0</td><td>4.0</td><td>True</td><td>None</td></tr>\n",
       "<tr><td>199.57758333333334,22.871305555555555</td><td>8.0</td><td>4.0</td><td>True</td><td>None</td></tr>\n",
       "</table></div>"
      ],
      "text/plain": [
       "<Table length=472>\n",
       "             coordinates                 RM      e_RM   included  flag \n",
       "               deg,deg                rad / m2 rad / m2                \n",
       "                object                float64  float64    bool   object\n",
       "------------------------------------- -------- -------- -------- ------\n",
       " 196.78470833333333,24.78352777777778     -3.0      4.0     True   None\n",
       " 203.9505833333333,20.171111111111113      3.0      5.0    False      b\n",
       "201.06033333333332,22.220305555555555     -6.0      6.0     True   None\n",
       "201.07991666666663,22.233472222222222      0.0      6.0     True   None\n",
       " 199.01816666666664,23.62713888888889      4.0     13.0     True   None\n",
       "         200.20225,22.965194444444442     -6.0      8.0     True   None\n",
       "197.81804166666666,24.454333333333334      5.0      3.0     True   None\n",
       "203.60637499999996,21.167916666666667     -1.0      9.0    False      b\n",
       "196.91187499999998,25.055555555555557     -6.0      4.0     True   None\n",
       "                                  ...      ...      ...      ...    ...\n",
       "193.52904166666664,26.502466666666667     -5.0      2.0    False      a\n",
       " 197.22479166666665,22.97161111111111      4.0      5.0     True   None\n",
       "196.72154166666664,23.542472222222223     -2.0     10.0     True   None\n",
       "  199.7889583333333,20.89011111111111      1.0      6.0     True   None\n",
       "          201.55124999999998,19.40825      2.0     11.0    False      b\n",
       " 196.7925833333333,24.129166666666666      0.0      3.0     True   None\n",
       "199.27962499999998,22.589416666666665    -20.0     14.0     True   None\n",
       " 200.54762499999998,21.80338888888889     12.0      6.0     True   None\n",
       "200.29674999999997,22.269972222222222     -1.0      4.0     True   None\n",
       "199.57758333333334,22.871305555555555      8.0      4.0     True   None"
      ]
     },
     "execution_count": 4,
     "metadata": {},
     "output_type": "execute_result"
    }
   ],
   "source": [
    "with open('apj343194t1_mrt.txt') as f:\n",
    "    lines = f.readlines()\n",
    "for i, line in enumerate(tqdm(lines)):\n",
    "    lines[i] = line.strip()\n",
    "coords, rms, e_rms, flags, incs = [], [], [], [], []\n",
    "for i, line in enumerate(tqdm(lines)):\n",
    "    ra = f\"{line[0:2]}h{line[3:5]}m{line[6:11]}s\"\n",
    "    #print(ra)\n",
    "    dec = f\"{line[12]}{line[13:15]}d{line[16:18]}m{line[19:24]}s\"\n",
    "    coord = SkyCoord(ra, dec)\n",
    "    rm = float(line[39:42]) * (u.rad / u.m**2)\n",
    "    e_rm = float(line[43:45]) * (u.rad / u.m**2)\n",
    "    inc = line[63] == 'Y'\n",
    "    incs.append(inc)\n",
    "    try:\n",
    "        flag = line[67]\n",
    "    except:\n",
    "        flag = None\n",
    "    coords.append(coord)\n",
    "    rms.append(rm)\n",
    "    e_rms.append(e_rm)\n",
    "    flags.append(flag)\n",
    "\n",
    "mao_rm_tab = Table()\n",
    "mao_rm_tab.add_column(coords, name='coordinates')\n",
    "mao_rm_tab.add_column(rms, name='RM')\n",
    "mao_rm_tab.add_column(e_rms, name='e_RM')\n",
    "mao_rm_tab.add_column(incs, name='included')\n",
    "mao_rm_tab.add_column(flags, name='flag')\n",
    "\n",
    "mao_rm_tab"
   ]
  },
  {
   "cell_type": "markdown",
   "metadata": {},
   "source": [
    "f"
   ]
  },
  {
   "cell_type": "markdown",
   "metadata": {},
   "source": [
    "Now we'll define our own bin edges to compute a structure function"
   ]
  },
  {
   "cell_type": "code",
   "execution_count": 5,
   "metadata": {},
   "outputs": [],
   "source": [
    "start = -0.8\n",
    "stop = 1.5\n",
    "step = 0.1\n",
    "bins = 10**np.arange(start, stop+step, step)*u.deg"
   ]
  },
  {
   "cell_type": "markdown",
   "metadata": {},
   "source": [
    "Here we compute the strcture function itself, including error correction. We use 1000 samples of each distribution for error propagation.\n",
    "\n",
    "By setting `show_plots=True` three plots are shown. \n",
    "1. An error-bar plot of the SF with a comparison line to a 2D kolmogorov spectrum\n",
    "2. A count of the number of source pairs per SF bin\n",
    "3. A structure function image showing the sampling from Monte-Carlo error propagation\n",
    "\n",
    "The `structure_function` function returns the centre of each bin, the median value of each bin, the upper and lower error bounds, and the number of sources in each bin."
   ]
  },
  {
   "cell_type": "code",
   "execution_count": 6,
   "metadata": {},
   "outputs": [
    {
     "name": "stdout",
     "output_type": "stream",
     "text": [
      "Sampling errors...\n"
     ]
    },
    {
     "name": "stderr",
     "output_type": "stream",
     "text": [
      "Sample Gaussian: 100%|██████████| 400/400 [00:00<00:00, 9471.05it/s]"
     ]
    },
    {
     "name": "stdout",
     "output_type": "stream",
     "text": [
      "Getting data differences...\n"
     ]
    },
    {
     "name": "stderr",
     "output_type": "stream",
     "text": [
      "\n"
     ]
    },
    {
     "name": "stdout",
     "output_type": "stream",
     "text": [
      "Getting data error differences...\n",
      "Getting angular separations...\n",
      "Computing SF...\n"
     ]
    },
    {
     "name": "stderr",
     "output_type": "stream",
     "text": [
      " 96%|█████████▌| 24/25 [00:02<00:00, 11.19it/s]\n",
      "100%|██████████| 24/24 [00:04<00:00,  5.37it/s]\n",
      "/Users/tho822/GoogleDrive/repos/structurefunction/structurefunction.py:186: MatplotlibDeprecationWarning: shading='flat' when X and Y have the same dimensions as C is deprecated since 3.3.  Either specify the corners of the quadrilaterals with X and Y, or pass shading='auto', 'nearest' or 'gouraud', or set rcParams['pcolor.shading'].  This will become an error two minor releases later.\n",
      "  plt.pcolormesh(X, Y, counts.T, cmap=plt.cm.cubehelix_r, shading='auto')\n",
      "No handles with labels found to put in legend.\n"
     ]
    },
    {
     "data": {
      "image/png": "[encoded data removed]",
      "text/plain": [
       "<Figure size 432x432 with 1 Axes>"
      ]
     },
     "metadata": {},
     "output_type": "display_data"
    },
    {
     "data": {
      "image/png": "[encoded data removed]",
      "text/plain": [
       "<Figure size 432x432 with 1 Axes>"
      ]
     },
     "metadata": {},
     "output_type": "display_data"
    },
    {
     "data": {
      "text/plain": [
       "<Figure size 432x288 with 0 Axes>"
      ]
     },
     "metadata": {},
     "output_type": "display_data"
    },
    {
     "data": {
      "image/png": "[encoded data removed]",
      "text/plain": [
       "<Figure size 504x432 with 2 Axes>"
      ]
     },
     "metadata": {},
     "output_type": "display_data"
    }
   ],
   "source": [
    "cbins, medians, err, count = structure_function(\n",
    "    mao_rm_tab['RM'][mao_rm_tab['included']],\n",
    "    mao_rm_tab['e_RM'][mao_rm_tab['included']],\n",
    "    mao_rm_tab['coordinates'][mao_rm_tab['included']],\n",
    "    1000,\n",
    "    bins,\n",
    "    show_plots=True,\n",
    "    verbose=True,\n",
    "    fit=True\n",
    ")"
   ]
  },
  {
   "cell_type": "markdown",
   "metadata": {},
   "source": [
    "Finally, we can compare our results to those from the original paper."
   ]
  },
  {
   "cell_type": "code",
   "execution_count": 7,
   "metadata": {},
   "outputs": [
    {
     "data": {
      "text/plain": [
       "Text(0, 0.5, 'RM SF [$\\\\mathrm{rad^{2}\\\\,m^{-4}}$]')"
      ]
     },
     "execution_count": 7,
     "metadata": {},
     "output_type": "execute_result"
    },
    {
     "data": {
      "image/png": "[encoded data removed]",
      "text/plain": [
       "<Figure size 432x432 with 1 Axes>"
      ]
     },
     "metadata": {
      "needs_background": "light"
     },
     "output_type": "display_data"
    }
   ],
   "source": [
    "plt.figure(figsize=(6,6))\n",
    "plt.plot(cbins, medians, '.', label='Median from MC')\n",
    "plt.errorbar(cbins.value, medians, yerr=err, color='tab:blue', marker=None, fmt=' ', )#label = '16th to 84th percentile range')\n",
    "plt.plot(mao_sep, mao_sf, 'X', label='Paper SF')\n",
    "plt.xscale('log')\n",
    "plt.yscale('log')\n",
    "plt.ylim(10**1.5, 10**3)\n",
    "plt.xlim(10**-1,10**1.5)\n",
    "plt.legend()\n",
    "plt.xlabel(rf\"$\\Delta\\theta$ [{mao_sep.unit:latex_inline}]\")\n",
    "plt.ylabel(rf\"RM SF [{mao_sf.unit:latex_inline}]\")"
   ]
  },
  {
   "cell_type": "code",
   "execution_count": null,
   "metadata": {},
   "outputs": [],
   "source": []
  }
 ],
 "metadata": {
  "interpreter": {
   "hash": "20d809ec86e111c3d2864aa65d3db8e7fa384fc1384beda5cdcca85df830bf4c"
  },
  "kernelspec": {
   "display_name": "Python 3.9.6 64-bit ('base': conda)",
   "language": "python",
   "name": "python3"
  },
  "language_info": {
   "codemirror_mode": {
    "name": "ipython",
    "version": 3
   },
   "file_extension": ".py",
   "mimetype": "text/x-python",
   "name": "python",
   "nbconvert_exporter": "python",
   "pygments_lexer": "ipython3",
   "version": "3.9.6"
  },
  "orig_nbformat": 4
 },
 "nbformat": 4,
 "nbformat_minor": 2
}
